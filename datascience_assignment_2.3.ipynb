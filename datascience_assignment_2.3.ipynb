{
 "cells": [
  {
   "cell_type": "markdown",
   "metadata": {},
   "source": [
    "### Python program to reverse a string\n",
    "## Steps\n",
    "* Get the input string s\n",
    "* Write a function reverse which takes a string s and reverses it\n",
    "* In reverse function, initialize reverse_s to blank\n",
    "* Take characters in string s in reverse order and concatenate to reverse_s"
   ]
  },
  {
   "cell_type": "code",
   "execution_count": 7,
   "metadata": {},
   "outputs": [
    {
     "name": "stdout",
     "output_type": "stream",
     "text": [
      "Input word: AcadGild\n",
      "Output: dliGdacA\n"
     ]
    }
   ],
   "source": [
    "# function reverse reverses a input string s\n",
    "def reverse(s):\n",
    "    # If input s is None or blank, retunr x\n",
    "    if s is None or s == \"\":\n",
    "        return s\n",
    "    \n",
    "    # Initialize reverse string to blanks\n",
    "    reverse_s = \"\"\n",
    "    \n",
    "    # Take characters in string s in reverse order and concatenate to reverse_s\n",
    "    for i in range(len(s) -1, -1, -1):\n",
    "        reverse_s += s[i]\n",
    "    return reverse_s\n",
    "\n",
    "s = input(\"Input word: \")\n",
    "rev_s = reverse(s)\n",
    "print(\"Output: \" + rev_s)"
   ]
  },
  {
   "cell_type": "code",
   "execution_count": null,
   "metadata": {},
   "outputs": [],
   "source": []
  }
 ],
 "metadata": {
  "kernelspec": {
   "display_name": "Python 3",
   "language": "python",
   "name": "python3"
  },
  "language_info": {
   "codemirror_mode": {
    "name": "ipython",
    "version": 3
   },
   "file_extension": ".py",
   "mimetype": "text/x-python",
   "name": "python",
   "nbconvert_exporter": "python",
   "pygments_lexer": "ipython3",
   "version": "3.6.4"
  }
 },
 "nbformat": 4,
 "nbformat_minor": 2
}
